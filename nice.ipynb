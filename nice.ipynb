{
 "cells": [
  {
   "cell_type": "code",
   "execution_count": 9,
   "id": "6c9b0947",
   "metadata": {},
   "outputs": [
    {
     "name": "stdout",
     "output_type": "stream",
     "text": [
      "cards = [\n",
      "  { front: \"Explain the role of the Model in Django's MVT design pattern and how it interacts with the database.\", back: \"The Model in Django's MVT design pattern provides data from the database. It uses Object Relational Mapping (ORM) to facilitate database interactions, eliminating the need for complex SQL statements. This makes it easier to work with the database without requiring a deep understanding of its structure. The models are typically defined in a file called models.py.\" },\n",
      "  { front: \"Describe the function of a View in Django and its role in handling HTTP requests.\", back: \"A View in Django is a function or method that processes HTTP requests. It imports the relevant models, determines what data to send to the template, and returns the final result. Views are usually located in a file called views.py. They act as request handlers that return the appropriate template and content based on user requests.\" }\n",
      "];\n"
     ]
    }
   ],
   "source": [
    "from mistralai import Mistral\n",
    "\n",
    "api_key = \"ohjt6SuF4jAFvPSMlX3ezGarPZCYJYON\"\n",
    "model = \"mistral-large-latest\"\n",
    "client = Mistral(api_key=api_key)\n",
    "\n",
    "pdf_text = \"\"\"\n",
    "How does Django Work?\n",
    "Django follows the MVT design pattern (Model View Template).\n",
    "\n",
    "Model - The data you want to present, usually data from a database.\n",
    "View - A request handler that returns the relevant template and content - based on the request from the user.\n",
    "Template - A text file (like an HTML file) containing the layout of the web page, with logic on how to display the data.\n",
    "Model\n",
    "The model provides data from the database.\n",
    "\n",
    "In Django, the data is delivered as an Object Relational Mapping (ORM), which is a technique designed to make it easier to work with databases.\n",
    "\n",
    "The most common way to extract data from a database is SQL. One problem with SQL is that you have to have a pretty good understanding of the database structure to be able to work with it.\n",
    "\n",
    "Django, with ORM, makes it easier to communicate with the database, without having to write complex SQL statements.\n",
    "\n",
    "The models are usually located in a file called models.py.\n",
    "\n",
    "View\n",
    "A view is a function or method that takes http requests as arguments, imports the relevant model(s), and finds out what data to send to the template, and returns the final result.\n",
    "\n",
    "The views are usually located in a file called views.py.\n",
    "\n",
    "Template\n",
    "A template is a file where you describe how the result should be represented.\n",
    "\n",
    "Templates are often .html files, with HTML code describing the layout of a web page, but it can also be in other file formats to present other results, but we will concentrate on .html files.\n",
    "\n",
    "Django uses standard HTML to describe the layout, but uses Django tags to add logic:\n",
    "\n",
    "<h1>My Homepage</h1>\n",
    "\n",
    "<p>My name is {{ firstname }}.</p>\n",
    "The templates of an application is located in a folder named templates.\n",
    "\n",
    "URLs\n",
    "Django also provides a way to navigate around the different pages in a website.\n",
    "\n",
    "When a user requests a URL, Django decides which view it will send it to.\n",
    "\n",
    "This is done in a file called urls.py.\n",
    "\"\"\"\n",
    "\n",
    "chat_response = client.chat.complete(\n",
    "    model=model,\n",
    "    messages=[\n",
    "        {\n",
    "            \"role\": \"user\",\n",
    "            \"content\": (\n",
    "                \"Generate 2 hard educational flashcards from the following content. \"\n",
    "                \"Respond ONLY with the following  format:\\n\\n\"\n",
    "                'cards = [\\n'\n",
    "                '  { front: \"Question 1\", back: \"Answer 1\" },\\n'\n",
    "                '  { front: \"Question 2\", back: \"Answer 2\" },\\n'\n",
    "                '  { front: \"Question 3\", back: \"Answer 3\" }\\n'\n",
    "                '];\\n\\n'\n",
    "                f\"CONTENT:\\n{pdf_text}\"\n",
    "            ),\n",
    "        },\n",
    "    ]\n",
    ")\n",
    "\n",
    "print(chat_response.choices[0].message.content)\n"
   ]
  },
  {
   "cell_type": "code",
   "execution_count": 4,
   "id": "10046821",
   "metadata": {},
   "outputs": [],
   "source": [
    "raw_string=chat_response.choices[0].message.content"
   ]
  },
  {
   "cell_type": "code",
   "execution_count": 5,
   "id": "cfa77c8b",
   "metadata": {},
   "outputs": [],
   "source": [
    "import re\n",
    "import json"
   ]
  },
  {
   "cell_type": "code",
   "execution_count": null,
   "id": "bde926ad",
   "metadata": {},
   "outputs": [
    {
     "name": "stdout",
     "output_type": "stream",
     "text": [
      "[{'front': 'What is the main function of the mitochondria in the cell?', 'back': \"It generates ATP, the cell's main source of energy.\"}, {'front': 'Why is Mars often referred to as the Red Planet?', 'back': 'Because of its reddish appearance.'}]\n"
     ]
    }
   ],
   "source": [
    "match = re.search(r'cards\\s*=\\s*(\\[[\\s\\S]*?\\]);', raw_string)\n",
    "card_block = match.group(1) if match else \"[]\"\n",
    "card_block_json_like = re.sub(r'(\\bfront\\b|\\bback\\b):', r'\"\\1\":', card_block)\n",
    "cards = json.loads(card_block_json_like)\n",
    "print(cards)"
   ]
  },
  {
   "cell_type": "code",
   "execution_count": null,
   "id": "ae7c2287",
   "metadata": {},
   "outputs": [],
   "source": []
  }
 ],
 "metadata": {
  "kernelspec": {
   "display_name": "chatpdf",
   "language": "python",
   "name": "python3"
  },
  "language_info": {
   "codemirror_mode": {
    "name": "ipython",
    "version": 3
   },
   "file_extension": ".py",
   "mimetype": "text/x-python",
   "name": "python",
   "nbconvert_exporter": "python",
   "pygments_lexer": "ipython3",
   "version": "3.9.20"
  }
 },
 "nbformat": 4,
 "nbformat_minor": 5
}
